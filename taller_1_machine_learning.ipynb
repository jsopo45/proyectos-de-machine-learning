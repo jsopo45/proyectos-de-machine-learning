{
  "nbformat": 4,
  "nbformat_minor": 0,
  "metadata": {
    "colab": {
      "provenance": []
    },
    "kernelspec": {
      "name": "python3",
      "display_name": "Python 3"
    },
    "language_info": {
      "name": "python"
    }
  },
  "cells": [
    {
      "cell_type": "code",
      "source": [
        "def suma_division_entera(num1, num2, num3):\n",
        "  if type(num1) ==int and type(num2) == int and type(num3) ==int:\n",
        "    suma = num1 + num2\n",
        "    if num3 != 0:\n",
        "            print(suma / num3)\n",
        "    else:\n",
        "            print(\"no se puede dividir entre cero\")\n",
        "  else:\n",
        "        print(\"Los tres números deben ser enteros.\")\n",
        "\n",
        "\n",
        "\n",
        "\n",
        "\n"
      ],
      "metadata": {
        "id": "58OhknSqv4Rv"
      },
      "execution_count": 61,
      "outputs": []
    },
    {
      "cell_type": "code",
      "source": [
        "suma_division_entera( \"h\", 5, 0)"
      ],
      "metadata": {
        "colab": {
          "base_uri": "https://localhost:8080/"
        },
        "id": "xW1Mco0w4X0b",
        "outputId": "dd978ebc-d503-437c-cd40-ee59a83ae8fc"
      },
      "execution_count": 62,
      "outputs": [
        {
          "output_type": "stream",
          "name": "stdout",
          "text": [
            "Los tres números deben ser enteros.\n"
          ]
        }
      ]
    },
    {
      "cell_type": "code",
      "source": [],
      "metadata": {
        "id": "uaQyvGcL7AXV"
      },
      "execution_count": null,
      "outputs": []
    }
  ]
}